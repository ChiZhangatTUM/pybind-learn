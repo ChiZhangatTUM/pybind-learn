{
 "cells": [
  {
   "cell_type": "markdown",
   "metadata": {},
   "source": [
    "Given a class Example with Python bindings, it’s possible to return instances wrapped in C++11 unique pointers"
   ]
  },
  {
   "cell_type": "code",
   "execution_count": null,
   "metadata": {
    "vscode": {
     "languageId": "cpp"
    }
   },
   "outputs": [],
   "source": [
    "/** C++ */\n",
    "std::unique_ptr<Example> create_example() { return std::unique_ptr<Example>(new Example()); }"
   ]
  },
  {
   "cell_type": "code",
   "execution_count": null,
   "metadata": {},
   "outputs": [],
   "source": [
    "/* Pybind11 */\n",
    "m.def(\"create_example\", &create_example);"
   ]
  },
  {
   "cell_type": "markdown",
   "metadata": {},
   "source": [
    " However, it is illegal to use them as function arguments. "
   ]
  },
  {
   "cell_type": "code",
   "execution_count": null,
   "metadata": {
    "vscode": {
     "languageId": "cpp"
    }
   },
   "outputs": [],
   "source": [
    "void do_something_with_example(std::unique_ptr<Example> ex) { ... }"
   ]
  },
  {
   "cell_type": "markdown",
   "metadata": {},
   "source": [
    "The signature would imply that Python needs to give up ownership of an object that is passed to this function, which is generally not possible (for instance, the object might be referenced elsewhere)."
   ]
  },
  {
   "cell_type": "markdown",
   "metadata": {},
   "source": [
    "It is possible to switch to other types of reference counting wrappers or smart pointers, which is useful in codebases that rely on them. For instance, the following snippet causes std::shared_ptr to be used instead."
   ]
  },
  {
   "cell_type": "code",
   "execution_count": null,
   "metadata": {},
   "outputs": [],
   "source": [
    "py::class_<Example, std::shared_ptr<Example> /* <- holder type */> obj(m, \"Example\");"
   ]
  },
  {
   "cell_type": "markdown",
   "metadata": {},
   "source": [
    "Note that any particular class can only be associated with a single holder type.\n",
    "One potential stumbling block when using holder types is that they need to be applied consistently. Can you guess what’s broken about the following binding code?"
   ]
  },
  {
   "cell_type": "code",
   "execution_count": null,
   "metadata": {},
   "outputs": [],
   "source": [
    "class Child { };\n",
    "\n",
    "class Parent {\n",
    "public:\n",
    "   Parent() : child(std::make_shared<Child>()) { }\n",
    "   Child *get_child() { return child.get(); }  /* Hint: ** DON'T DO THIS ** */\n",
    "private:\n",
    "    std::shared_ptr<Child> child;\n",
    "};\n",
    "\n",
    "PYBIND11_MODULE(example, m) {\n",
    "    py::class_<Child, std::shared_ptr<Child>>(m, \"Child\");\n",
    "\n",
    "    py::class_<Parent, std::shared_ptr<Parent>>(m, \"Parent\")\n",
    "       .def(py::init<>())\n",
    "       .def(\"get_child\", &Parent::get_child);\n",
    "}"
   ]
  },
  {
   "cell_type": "markdown",
   "metadata": {},
   "source": [
    "The problem is that Parent::get_child() returns a pointer to an instance of Child, but the fact that this instance is already managed by std::shared_ptr<...> is lost when passing raw pointers. \n",
    "In this case, pybind11 will create a second independent std::shared_ptr<...> that also claims ownership of the pointer. \n",
    "In the end, the object will be freed twice since these shared pointers have no way of knowing about each other.\n",
    "\n",
    "There are two ways to resolve this issue:\n",
    "\n",
    "    1, For types that are managed by a smart pointer class, never use raw pointers in function arguments or return values. In other words: always consistently wrap pointers into their designated holder types (such as std::shared_ptr<...>). In this case, the signature of get_child() should be modified as follows:"
   ]
  },
  {
   "cell_type": "code",
   "execution_count": null,
   "metadata": {
    "vscode": {
     "languageId": "cpp"
    }
   },
   "outputs": [],
   "source": [
    "std::shared_ptr<Child> get_child() { return child; }"
   ]
  },
  {
   "cell_type": "markdown",
   "metadata": {},
   "source": [
    "    2, Adjust the definition of Child by specifying std::enable_shared_from_this<T> (see cppreference for details) as a base class. This adds a small bit of information to Child that allows pybind11 to realize that there is already an existing std::shared_ptr<...> and communicate with it. In this case, the declaration of Child should look as follows:"
   ]
  },
  {
   "cell_type": "code",
   "execution_count": null,
   "metadata": {
    "vscode": {
     "languageId": "cpp"
    }
   },
   "outputs": [],
   "source": [
    "class Child : public std::enable_shared_from_this<Child> { };"
   ]
  },
  {
   "cell_type": "markdown",
   "metadata": {},
   "source": [
    "Custom smart pointers"
   ]
  },
  {
   "cell_type": "markdown",
   "metadata": {},
   "source": [
    "pybind11 supports std::unique_ptr and std::shared_ptr right out of the box. \n",
    "For any other custom smart pointer, transparent conversions can be enabled using a macro invocation similar to the following. \n",
    "It must be declared at the top namespace level before any binding code"
   ]
  },
  {
   "cell_type": "code",
   "execution_count": null,
   "metadata": {},
   "outputs": [],
   "source": [
    "/* Always needed for custom holder types */\n",
    "PYBIND11_DECLARE_HOLDER_TYPE(T, SmartPtr<T>);\n",
    "\n",
    "/* Only needed if the type's `.get()` goes by another name */\n",
    "namespace pybind11 { namespace detail {\n",
    "    template <typename T>\n",
    "    struct holder_helper<SmartPtr<T>> { // <-- specialization\n",
    "        static const T *get(const SmartPtr<T> &p) { return p.getPointer(); }\n",
    "    };\n",
    "}}"
   ]
  }
 ],
 "metadata": {
  "language_info": {
   "name": "python"
  },
  "orig_nbformat": 4
 },
 "nbformat": 4,
 "nbformat_minor": 2
}
