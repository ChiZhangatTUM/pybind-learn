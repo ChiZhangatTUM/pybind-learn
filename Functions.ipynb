{
  "cells": [
    {
      "cell_type": "markdown",
      "metadata": {},
      "source": [
        "Functions\n",
        "Python and C++ use fundamentally different ways of managing the memory and lifetime of objects managed by them. \n",
        "This can lead to issues when creating bindings for functions that return a non-trivial type. \n",
        "Just by looking at the type information, it is not clear whether Python should take charge of the returned value and eventually free its resources, or if this is handled on the C++ side. \n",
        "For this reason, pybind11 provides a several return value policy annotations that can be passed to the module_::def() and class_::def() functions. The default policy is return_value_policy::automatic"
      ]
    },
    {
      "cell_type": "code",
      "execution_count": null,
      "metadata": {},
      "outputs": [],
      "source": [
        "/* Function declaration */\n",
        "Data *get_data() { return _data; /* (pointer to a static data structure) */ }\n",
        "\n",
        "/* Binding code */\n",
        "m.def(\"get_data\", &get_data); // <-- will cause crash when called from Python"
      ]
    },
    {
      "cell_type": "markdown",
      "metadata": {},
      "source": [
        "When get_data() is called from Python, the return value (a native C++ static data structure) must be wrapped to turn it into a usable Python type. \n",
        "In this case, the default return value policy (return_value_policy::automatic) causes pybind11 to assume ownership of the static _data instance.\n",
        "\n",
        "When Python’s garbage collector eventually deletes the Python wrapper, pybind11 will also attempt to delete the C++ instance (via operator delete()) due to the implied ownership. \n",
        "At this point, the entire application will come crashing down, though errors could also be more subtle and involve silent data corruption.\n",
        "\n",
        "In the above example, the policy return_value_policy::reference should have been specified so that the global data instance is only referenced without any implied transfer of ownership, i.e.:"
      ]
    },
    {
      "cell_type": "code",
      "execution_count": null,
      "metadata": {},
      "outputs": [],
      "source": [
        "m.def(\"get_data\", &get_data, py::return_value_policy::reference);"
      ]
    },
    {
      "cell_type": "markdown",
      "metadata": {},
      "source": [
        "On the other hand, this is not the right policy for many other situations, where ignoring ownership could lead to resource leaks.\n",
        "As a developer using pybind11, it’s important to be familiar with the different return value policies, including which situation calls for which one of them. The following table provides an overview of available policies:"
      ]
    },
    {
      "cell_type": "code",
      "execution_count": null,
      "metadata": {},
      "outputs": [],
      "source": [
        "/* Reference an existing object (i.e. do not create a new copy) and take ownership. \n",
        "    Python will call the destructor and delete operator when the object’s reference count reaches zero. \n",
        "    Undefined behavior ensues when the C++ side does the same, or when the data was not dynamically allocated. \n",
        "*/\n",
        "m.def(\"get_data\", &get_data, return_value_policy::take_ownership);"
      ]
    },
    {
      "cell_type": "code",
      "execution_count": null,
      "metadata": {},
      "outputs": [],
      "source": [
        "/*\n",
        "    Create a new copy of the returned object, which will be owned by Python. \n",
        "    This policy is comparably safe because the lifetimes of the two instances are decoupled.\n",
        "*/\n",
        "m.def(\"get_data\", &get_data, return_value_policy::copy);"
      ]
    },
    {
      "cell_type": "code",
      "execution_count": null,
      "metadata": {},
      "outputs": [],
      "source": [
        "/*\n",
        "    Use std::move to move the return value contents into a new instance that will be owned by Python. \n",
        "    This policy is comparably safe because the lifetimes of the two instances (move source and destination) are decoupled.\n",
        "*/\n",
        "m.def(\"get_data\", &get_data,return_value_policy::move);"
      ]
    },
    {
      "cell_type": "code",
      "execution_count": null,
      "metadata": {},
      "outputs": [],
      "source": [
        "/*\n",
        "    Reference an existing object, but do not take ownership. \n",
        "    The C++ side is responsible for managing the object’s lifetime and deallocating it when it is no longer used. \n",
        "    Warning: undefined behavior will ensue when the C++ side deletes an object that is still referenced and used by Python.\n",
        "*/\n",
        "m.def(\"get_data\", &get_data,return_value_policy::reference);"
      ]
    },
    {
      "cell_type": "code",
      "execution_count": null,
      "metadata": {},
      "outputs": [],
      "source": [
        "/*\n",
        "    Indicates that the lifetime of the return value is tied to the lifetime of a parent object, namely the implicit this, \n",
        "    or self argument of the called method or property. \n",
        "    Internally, this policy works just like return_value_policy::reference but additionally \n",
        "    applies a keep_alive<0, 1> call policy (described in the next section) that prevents the parent object \n",
        "    from being garbage collected as long as the return value is referenced by Python. \n",
        "    This is the default policy for property getters created via def_property, def_readwrite, etc.\n",
        "*/\n",
        "m.def(\"get_data\", &get_data,return_value_policy::reference_internal);"
      ]
    },
    {
      "cell_type": "code",
      "execution_count": null,
      "metadata": {},
      "outputs": [],
      "source": [
        "/*\n",
        "    This policy falls back to the policy return_value_policy::take_ownership when the return value is a pointer. \n",
        "    Otherwise, it uses return_value_policy::move or return_value_policy::copy for rvalue and lvalue references, respectively. \n",
        "    See above for a description of what all of these different policies do. This is the default policy for py::class_- wrapped types.\n",
        "*/\n",
        "m.def(\"get_data\", &get_data,return_value_policy::automatic);"
      ]
    },
    {
      "cell_type": "code",
      "execution_count": null,
      "metadata": {},
      "outputs": [],
      "source": [
        "/*\n",
        "    As above, but use policy return_value_policy::reference when the return value is a pointer. \n",
        "    This is the default conversion policy for function arguments when \n",
        "    calling Python functions manually from C++ code (i.e. via handle::operator()) and the casters in pybind11/stl.h. \n",
        "    You probably won’t need to use this explicitly.\n",
        "*/\n",
        "m.def(\"get_data\", &get_data,return_value_policy::automatic_reference);"
      ]
    },
    {
      "cell_type": "markdown",
      "metadata": {},
      "source": [
        "Return value policies can also be applied to properties:"
      ]
    },
    {
      "cell_type": "code",
      "execution_count": null,
      "metadata": {},
      "outputs": [],
      "source": [
        "class_<MyClass>(m, \"MyClass\")\n",
        "    .def_property(\"data\", &MyClass::getData, &MyClass::setData,\n",
        "                  py::return_value_policy::copy);"
      ]
    },
    {
      "cell_type": "markdown",
      "metadata": {},
      "source": [
        "Keeplive\n",
        "In general, this policy is required when the C++ object is any kind of container and another object is being added to the container. keep_alive<Nurse, Patient> indicates that the argument with index Patient should be kept alive at least until the argument with index Nurse is freed by the garbage collector. Argument indices start at one, while zero refers to the return value. For methods, index 1 refers to the implicit this pointer, while regular arguments begin at index 2. Arbitrarily many call policies can be specified. When a Nurse with value None is detected at runtime, the call policy does nothing."
      ]
    },
    {
      "cell_type": "code",
      "execution_count": null,
      "metadata": {},
      "outputs": [],
      "source": [
        "/*\n",
        "    The following example ties the lifetime of the constructor element to the constructed object:\n",
        "*/\n",
        "py::class_<Nurse>(m, \"Nurse\")\n",
        "    .def(py::init<Patient &>(), py::keep_alive<1, 2>());"
      ]
    },
    {
      "cell_type": "markdown",
      "metadata": {},
      "source": [
        "Call guard\n",
        "The call_guard<T> policy allows any scope guard type T to be placed around the function call. \n",
        "For example:"
      ]
    },
    {
      "cell_type": "code",
      "execution_count": null,
      "metadata": {},
      "outputs": [],
      "source": [
        "m.def(\"foo\", [](args...) {\n",
        "    T scope_guard;\n",
        "    return foo(args...); \n",
        "});\n",
        "/* can be simplied as */\n",
        "m.def(\"foo\", foo, py::call_guard<T>());"
      ]
    },
    {
      "cell_type": "markdown",
      "metadata": {},
      "source": [
        "The only requirement is that T is default-constructible, but otherwise any scope guard will work. This is very useful in combination with gil_scoped_release. See Global Interpreter Lock (GIL).\n",
        "Multiple guards can also be specified as py::call_guard<T1, T2, T3...>. The constructor order is left to right and destruction happens in reverse."
      ]
    },
    {
      "cell_type": "markdown",
      "metadata": {},
      "source": [
        "Python objects as arguments\n",
        "pybind11 exposes all major Python types using thin C++ wrapper classes. These wrapper classes can also be used as parameters of functions in bindings, which makes it possible to directly work with native Python types on the C++ side. For instance:"
      ]
    },
    {
      "cell_type": "code",
      "execution_count": null,
      "metadata": {},
      "outputs": [],
      "source": [
        "void print_dict(const py::dict& dict) {\n",
        "    /* Easily interact with Python types */\n",
        "    for (auto item : dict)\n",
        "        std::cout << \"key=\" << std::string(py::str(item.first)) << \", \"\n",
        "                  << \"value=\" << std::string(py::str(item.second)) << std::endl;\n",
        "}\n",
        "/* Python implementation */\n",
        "m.def(\"print_dict\", &print_dict);\n",
        ">>> print_dict({\"foo\": 123, \"bar\": \"hello\"})\n",
        "key=foo, value=123\n",
        "key=bar, value=hello"
      ]
    },
    {
      "cell_type": "markdown",
      "metadata": {},
      "source": [
        "Accepting *args and **kwargs\n",
        "Python provides a useful mechanism to define functions that accept arbitrary numbers of arguments and keyword arguments:"
      ]
    },
    {
      "cell_type": "code",
      "execution_count": null,
      "metadata": {},
      "outputs": [],
      "source": [
        "def generic(*args, **kwargs):\n",
        "    ...  # do something with args and kwargs\n",
        "    \n",
        "void generic(py::args args, const py::kwargs& kwargs) {\n",
        "    /// .. do something with args\n",
        "    if (kwargs)\n",
        "        /// .. do something with kwargs\n",
        "}\n",
        "\n",
        "/// Binding code\n",
        "m.def(\"generic\", &generic);"
      ]
    },
    {
      "cell_type": "markdown",
      "metadata": {},
      "source": [
        "Here, the class py::args derives from py::tuple and py::kwargs derives from py::dict.\n",
        "You may also use just one or the other, and may combine these with other arguments. \n",
        "Note, however, that py::kwargs must always be the last argument of the function, and py::args implies that any further arguments are keyword-only"
      ]
    },
    {
      "cell_type": "markdown",
      "metadata": {},
      "source": [
        "Binding functions with template parameters\n",
        "C++ templates cannot be instantiated at runtime, so you cannot bind the non-instantiated function.\n",
        "You must bind each instantiated function template separately. You may bind each instantiation with the same name, which will be treated the same as an overloaded function."
      ]
    },
    {
      "cell_type": "code",
      "execution_count": null,
      "metadata": {},
      "outputs": [],
      "source": [
        "/* C++ */\n",
        "template <typename T>\n",
        "void set(T t);\n",
        "/* binding. */\n",
        "m.def(\"set\", &set<int>);\n",
        "m.def(\"set\", &set<std::string>);"
      ]
    }
  ],
  "metadata": {
    "kernelspec": {
      "display_name": "Python (Pyodide)",
      "language": "python",
      "name": "python"
    },
    "language_info": {
      "codemirror_mode": {
        "name": "python",
        "version": 3
      },
      "file_extension": ".py",
      "mimetype": "text/x-python",
      "name": "python",
      "nbconvert_exporter": "python",
      "pygments_lexer": "ipython3",
      "version": "3.8"
    }
  },
  "nbformat": 4,
  "nbformat_minor": 4
}
