{
 "cells": [
  {
   "cell_type": "markdown",
   "metadata": {},
   "source": [
    "Overriding virtual functions in Python\n",
    "Suppose that a C++ class or interface has a virtual function that we’d like to override from within Python as:"
   ]
  },
  {
   "cell_type": "code",
   "execution_count": null,
   "metadata": {
    "vscode": {
     "languageId": "cpp"
    }
   },
   "outputs": [],
   "source": [
    "/* C++ */\n",
    "class Animal {\n",
    "public:\n",
    "    virtual ~Animal() { }\n",
    "    virtual std::string go(int n_times) = 0;\n",
    "};\n",
    "\n",
    "class Dog : public Animal {\n",
    "public:\n",
    "    std::string go(int n_times) override {\n",
    "        std::string result;\n",
    "        for (int i=0; i<n_times; ++i)\n",
    "            result += \"woof! \";\n",
    "        return result;\n",
    "    }\n",
    "};\n",
    "/* A plain function which calls the function go() on arbitrary Animal instance */\n",
    "std::string call_go(Animal *animal) {\n",
    "    return animal->go(3);\n",
    "}"
   ]
  },
  {
   "cell_type": "markdown",
   "metadata": {},
   "source": [
    "Defining a new type of Animal from within Python is possible but requires a helper class that is defined as follows"
   ]
  },
  {
   "cell_type": "code",
   "execution_count": null,
   "metadata": {
    "vscode": {
     "languageId": "cpp"
    }
   },
   "outputs": [],
   "source": [
    "class PyAnimal : public Animal {\n",
    "public:\n",
    "    /* Inherit the constructors */\n",
    "    using Animal::Animal;\n",
    "\n",
    "    /* Trampoline (need one for each virtual function) */\n",
    "    std::string go(int n_times) override {\n",
    "        PYBIND11_OVERRIDE_PURE(\n",
    "            std::string, /* Return type */\n",
    "            Animal,      /* Parent class */\n",
    "            go,          /* Name of function in C++ (must match Python name) */\n",
    "            n_times      /* Argument(s) */\n",
    "        );\n",
    "    }\n",
    "};"
   ]
  },
  {
   "cell_type": "markdown",
   "metadata": {},
   "source": [
    "The macro PYBIND11_OVERRIDE_PURE should be used for pure virtual functions, and PYBIND11_OVERRIDE should be used for functions which have a default implementation. \n",
    "There are also two alternate macros PYBIND11_OVERRIDE_PURE_NAME and PYBIND11_OVERRIDE_NAME which take a string-valued name argument between the Parent class and Name of the function slots, which defines the name of function in Python. \n",
    "This is required when the C++ and Python versions of the function have different names, e.g. operator() vs __call__."
   ]
  },
  {
   "cell_type": "code",
   "execution_count": null,
   "metadata": {},
   "outputs": [],
   "source": [
    "PYBIND11_MODULE(example, m) {\n",
    "    py::class_<Animal, PyAnimal>(m, \"Animal\")\n",
    "        .def(py::init<>())\n",
    "        .def(\"go\", &Animal::go); //Bindings should be made against the actual class, not the trampoline helper class.\n",
    "\n",
    "    py::class_<Dog, Animal>(m, \"Dog\")\n",
    "        .def(py::init<>());\n",
    "\n",
    "    m.def(\"call_go\", &call_go);\n",
    "}"
   ]
  },
  {
   "cell_type": "markdown",
   "metadata": {},
   "source": [
    "If you are defining a custom constructor in a derived Python class, you must ensure that you explicitly call the bound C++ constructor using __init__, regardless of whether it is a default constructor or not. Otherwise, the memory for the C++ portion of the instance will be left uninitialized, which will generally leave the C++ instance in an invalid state and cause undefined behavior if the C++ instance is subsequently used."
   ]
  },
  {
   "cell_type": "markdown",
   "metadata": {},
   "source": [
    "Combining virtual functions and inheritance\n",
    "When combining virtual methods with inheritance, you need to be sure to provide an override for each method for which you want to allow overrides from derived python classes."
   ]
  },
  {
   "cell_type": "code",
   "execution_count": null,
   "metadata": {},
   "outputs": [],
   "source": [
    "/* C++ */\n",
    "class Animal {\n",
    "public:\n",
    "    virtual std::string go(int n_times) = 0;\n",
    "    virtual std::string name() { return \"unknown\"; }\n",
    "};\n",
    "class Dog : public Animal {\n",
    "public:\n",
    "    std::string go(int n_times) override {\n",
    "        std::string result;\n",
    "        for (int i=0; i<n_times; ++i)\n",
    "            result += bark() + \" \";\n",
    "        return result;\n",
    "    }\n",
    "    virtual std::string bark() { return \"woof!\"; }\n",
    "};\n",
    "\n",
    "/* Pybind11 */\n",
    "class PyAnimal : public Animal {\n",
    "public:\n",
    "    using Animal::Animal; // Inherit constructors\n",
    "    std::string go(int n_times) override { PYBIND11_OVERRIDE_PURE(std::string, Animal, go, n_times); }\n",
    "    std::string name() override { PYBIND11_OVERRIDE(std::string, Animal, name, ); }\n",
    "};\n",
    "class PyDog : public Dog {\n",
    "public:\n",
    "    using Dog::Dog; // Inherit constructors\n",
    "    std::string go(int n_times) override { PYBIND11_OVERRIDE(std::string, Dog, go, n_times); }\n",
    "    std::string name() override { PYBIND11_OVERRIDE(std::string, Dog, name, ); }\n",
    "    std::string bark() override { PYBIND11_OVERRIDE(std::string, Dog, bark, ); }\n",
    "};"
   ]
  },
  {
   "cell_type": "markdown",
   "metadata": {},
   "source": [
    "Here, the trampoline class for Animal must override go() and name(), but in order to allow python code to inherit properly from Dog, we also need a trampoline class for Dog that overrides both the added bark() method and the go() and name() methods inherited from Animal (even though Dog doesn’t directly override the name() method):"
   ]
  },
  {
   "cell_type": "markdown",
   "metadata": {},
   "source": [
    "Protected member function, \n",
    "Normally, it's impossible to expose protected member functions to Python,"
   ]
  },
  {
   "cell_type": "code",
   "execution_count": null,
   "metadata": {},
   "outputs": [],
   "source": [
    "/* C++ */\n",
    "class A {\n",
    "protected:\n",
    "    int foo() const { return 42; }\n",
    "};\n",
    "/* Pybind11 */\n",
    "py::class_<A>(m, \"A\")\n",
    "    .def(\"foo\", &A::foo); // error: 'foo' is a protected member of 'A'"
   ]
  },
  {
   "cell_type": "markdown",
   "metadata": {},
   "source": [
    "To make use of protected functions in derived Python classes, one can do "
   ]
  },
  {
   "cell_type": "code",
   "execution_count": null,
   "metadata": {},
   "outputs": [],
   "source": [
    "/* C++ */\n",
    "class Publicist : public A { // helper type for exposing protected functions\n",
    "public:\n",
    "    using A::foo; // inherited with different access modifier\n",
    "};\n",
    "/* Pybind11 */\n",
    "py::class_<A>(m, \"A\") // bind the primary class\n",
    "    .def(\"foo\", &Publicist::foo); // expose protected methods via the publicist"
   ]
  },
  {
   "cell_type": "markdown",
   "metadata": {},
   "source": [
    "This works because &Publicist::foo is exactly the same function as &A::foo (same signature and address), just with a different access modifier. The only purpose of the Publicist helper class is to make the function name public.\n",
    "If the intent is to expose protected virtual functions which can be overridden in Python, the publicist pattern can be combined with the previously described trampoline"
   ]
  },
  {
   "cell_type": "code",
   "execution_count": null,
   "metadata": {},
   "outputs": [],
   "source": [
    "/* C++ */\n",
    "class A {\n",
    "public:\n",
    "    virtual ~A() = default;\n",
    "\n",
    "protected:\n",
    "    virtual int foo() const { return 42; }\n",
    "};\n",
    "\n",
    "class Trampoline : public A {\n",
    "public:\n",
    "    int foo() const override { PYBIND11_OVERRIDE(int, A, foo, ); }\n",
    "};\n",
    "\n",
    "class Publicist : public A {\n",
    "public:\n",
    "    using A::foo;\n",
    "};\n",
    "/* Pybind11 */\n",
    "py::class_<A, Trampoline>(m, \"A\") // <-- `Trampoline` here\n",
    "    .def(\"foo\", &Publicist::foo); // <-- `Publicist` here, not `Trampoline`!"
   ]
  },
  {
   "cell_type": "markdown",
   "metadata": {},
   "source": [
    "Class can not be inherited from. \n",
    "The py::is_final attribute can be used to ensure that Python classes cannot inherit from a specified type. The underlying C++ type does not need to be declared final."
   ]
  },
  {
   "cell_type": "code",
   "execution_count": null,
   "metadata": {},
   "outputs": [],
   "source": [
    "/* C++ */\n",
    "class IsFinal final {};\n",
    "/* Pybind11 */\n",
    "py::class_<IsFinal>(m, \"IsFinal\", py::is_final());"
   ]
  },
  {
   "cell_type": "markdown",
   "metadata": {},
   "source": [
    "Class with template parameter\n",
    "As C++ templates may only be instantiated at compile time, so pybind11 can only wrap instantiated templated classes. \n",
    "One cannot wrap a non-instantiated template"
   ]
  },
  {
   "cell_type": "code",
   "execution_count": null,
   "metadata": {},
   "outputs": [],
   "source": [
    "/* C++ */\n",
    "struct Cat {};\n",
    "struct Dog {};\n",
    "\n",
    "template <typename PetType>\n",
    "struct Cage {\n",
    "    Cage(PetType& pet);\n",
    "    PetType& get();\n",
    "};\n",
    "/* Pybind11 */\n",
    "py::class_<Cage<Cat>>(m, \"CatCage\")\n",
    "    .def(\"get\", &Cage<Cat>::get);\n",
    "    \n",
    "py::class_<Cage<Dog>>(m, \"DogCage\")\n",
    "    .def(\"get\", &Cage<Dog>::get);"
   ]
  },
  {
   "cell_type": "markdown",
   "metadata": {},
   "source": [
    "With template parameter in Class mehtod"
   ]
  },
  {
   "cell_type": "code",
   "execution_count": null,
   "metadata": {},
   "outputs": [],
   "source": [
    "/* C++ */\n",
    "typename <typename T>\n",
    "struct MyClass {\n",
    "    template <typename V>\n",
    "    T fn(V v);\n",
    "};\n",
    "/* Pybind11 */\n",
    "py::class<MyClass<int>>(m, \"MyClassT\")\n",
    "    .def(\"fn\", &MyClass<int>::fn<std::string>);"
   ]
  }
 ],
 "metadata": {
  "language_info": {
   "name": "python"
  },
  "orig_nbformat": 4
 },
 "nbformat": 4,
 "nbformat_minor": 2
}
