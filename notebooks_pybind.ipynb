{
  "metadata": {
    "language_info": {
      "codemirror_mode": {
        "name": "python",
        "version": 3
      },
      "file_extension": ".py",
      "mimetype": "text/x-python",
      "name": "python",
      "nbconvert_exporter": "python",
      "pygments_lexer": "ipython3",
      "version": "3.8"
    },
    "kernelspec": {
      "name": "python",
      "display_name": "Python (Pyodide)",
      "language": "python"
    }
  },
  "nbformat_minor": 4,
  "nbformat": 4,
  "cells": [
    {
      "cell_type": "markdown",
      "source": "Functions\nPython and C++ use fundamentally different ways of managing the memory and lifetime of objects managed by them. \nThis can lead to issues when creating bindings for functions that return a non-trivial type. \nJust by looking at the type information, it is not clear whether Python should take charge of the returned value and eventually free its resources, or if this is handled on the C++ side. \nFor this reason, pybind11 provides a several return value policy annotations that can be passed to the module_::def() and class_::def() functions. The default policy is return_value_policy::automatic",
      "metadata": {}
    },
    {
      "cell_type": "code",
      "source": "/* Function declaration */\nData *get_data() { return _data; /* (pointer to a static data structure) */ }\n\n/* Binding code */\nm.def(\"get_data\", &get_data); // <-- will cause crash when called from Python",
      "metadata": {},
      "execution_count": null,
      "outputs": []
    },
    {
      "cell_type": "markdown",
      "source": "When get_data() is called from Python, the return value (a native C++ static data structure) must be wrapped to turn it into a usable Python type. \nIn this case, the default return value policy (return_value_policy::automatic) causes pybind11 to assume ownership of the static _data instance.\n\nWhen Python’s garbage collector eventually deletes the Python wrapper, pybind11 will also attempt to delete the C++ instance (via operator delete()) due to the implied ownership. \nAt this point, the entire application will come crashing down, though errors could also be more subtle and involve silent data corruption.\n\nIn the above example, the policy return_value_policy::reference should have been specified so that the global data instance is only referenced without any implied transfer of ownership, i.e.:",
      "metadata": {}
    },
    {
      "cell_type": "code",
      "source": "m.def(\"get_data\", &get_data, py::return_value_policy::reference);",
      "metadata": {},
      "execution_count": null,
      "outputs": []
    },
    {
      "cell_type": "markdown",
      "source": "On the other hand, this is not the right policy for many other situations, where ignoring ownership could lead to resource leaks.\nAs a developer using pybind11, it’s important to be familiar with the different return value policies, including which situation calls for which one of them. The following table provides an overview of available policies:",
      "metadata": {}
    },
    {
      "cell_type": "code",
      "source": "/* Reference an existing object (i.e. do not create a new copy) and take ownership. \n    Python will call the destructor and delete operator when the object’s reference count reaches zero. \n    Undefined behavior ensues when the C++ side does the same, or when the data was not dynamically allocated. \n*/\nm.def(\"get_data\", &get_data, return_value_policy::take_ownership);",
      "metadata": {},
      "execution_count": null,
      "outputs": []
    },
    {
      "cell_type": "code",
      "source": "/*\n    Create a new copy of the returned object, which will be owned by Python. \n    This policy is comparably safe because the lifetimes of the two instances are decoupled.\n*/\nm.def(\"get_data\", &get_data, return_value_policy::copy);",
      "metadata": {},
      "execution_count": null,
      "outputs": []
    },
    {
      "cell_type": "code",
      "source": "/*\n    Use std::move to move the return value contents into a new instance that will be owned by Python. \n    This policy is comparably safe because the lifetimes of the two instances (move source and destination) are decoupled.\n*/\nm.def(\"get_data\", &get_data,return_value_policy::move);",
      "metadata": {},
      "execution_count": null,
      "outputs": []
    },
    {
      "cell_type": "code",
      "source": "/*\n    Reference an existing object, but do not take ownership. \n    The C++ side is responsible for managing the object’s lifetime and deallocating it when it is no longer used. \n    Warning: undefined behavior will ensue when the C++ side deletes an object that is still referenced and used by Python.\n*/\nm.def(\"get_data\", &get_data,return_value_policy::reference);",
      "metadata": {},
      "execution_count": null,
      "outputs": []
    },
    {
      "cell_type": "code",
      "source": "/*\n    Indicates that the lifetime of the return value is tied to the lifetime of a parent object, namely the implicit this, \n    or self argument of the called method or property. \n    Internally, this policy works just like return_value_policy::reference but additionally \n    applies a keep_alive<0, 1> call policy (described in the next section) that prevents the parent object \n    from being garbage collected as long as the return value is referenced by Python. \n    This is the default policy for property getters created via def_property, def_readwrite, etc.\n*/\nm.def(\"get_data\", &get_data,return_value_policy::reference_internal);",
      "metadata": {},
      "execution_count": null,
      "outputs": []
    },
    {
      "cell_type": "code",
      "source": "/*\n    This policy falls back to the policy return_value_policy::take_ownership when the return value is a pointer. \n    Otherwise, it uses return_value_policy::move or return_value_policy::copy for rvalue and lvalue references, respectively. \n    See above for a description of what all of these different policies do. This is the default policy for py::class_- wrapped types.\n*/\nm.def(\"get_data\", &get_data,return_value_policy::automatic);",
      "metadata": {},
      "execution_count": null,
      "outputs": []
    },
    {
      "cell_type": "code",
      "source": "/*\n    As above, but use policy return_value_policy::reference when the return value is a pointer. \n    This is the default conversion policy for function arguments when \n    calling Python functions manually from C++ code (i.e. via handle::operator()) and the casters in pybind11/stl.h. \n    You probably won’t need to use this explicitly.\n*/\nm.def(\"get_data\", &get_data,return_value_policy::automatic_reference);",
      "metadata": {},
      "execution_count": null,
      "outputs": []
    },
    {
      "cell_type": "markdown",
      "source": "Return value policies can also be applied to properties:",
      "metadata": {}
    },
    {
      "cell_type": "code",
      "source": "class_<MyClass>(m, \"MyClass\")\n    .def_property(\"data\", &MyClass::getData, &MyClass::setData,\n                  py::return_value_policy::copy);",
      "metadata": {},
      "execution_count": null,
      "outputs": []
    }
  ]
}